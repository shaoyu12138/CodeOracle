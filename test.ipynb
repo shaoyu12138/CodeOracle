{
 "cells": [
  {
   "cell_type": "markdown",
   "id": "974683d8",
   "metadata": {},
   "source": [
    "## 六爻卦占卜程序"
   ]
  },
  {
   "cell_type": "markdown",
   "id": "34f13a55",
   "metadata": {},
   "source": [
    "- 本程序基于《周易》六爻卦进行占卜，用户输入性别（0男/1女），背景和问题。\n",
    "- 程序随机生成本卦、动爻和变卦等，最终结果保存至 `question_YYYY_MM_DD_HH_MM_SS.txt`。\n",
    "- 运行前请确保 `prompt.txt`,`assets/64_Gua_Data.json`和`assets/64_Gua_Data_4096.json` 存在。\n",
    "- 若输入错误或文件缺失，程序将提示并终止。结果仅供参考，勿迷信。\n",
    "- 用户可以修改 prompt.txt 完成自己的提示词设计。\n",
    "- 用户可以使用后续查卦功能对自己需要的`卦爻辞象`和`焦氏易林`进行查询。"
   ]
  },
  {
   "cell_type": "markdown",
   "id": "3aea056c",
   "metadata": {},
   "source": [
    "## 占卜"
   ]
  },
  {
   "cell_type": "code",
   "execution_count": 3,
   "id": "56f01a82",
   "metadata": {},
   "outputs": [
    {
     "name": "stdout",
     "output_type": "stream",
     "text": [
      "\n",
      "占卜结果已保存：question_2025_04_20_08_41_23.txt\n"
     ]
    }
   ],
   "source": [
    "# 导入你保存的文件模块\n",
    "import CodeOracle\n",
    "\n",
    "# 调用主函数（注意会弹出 input() 等交互）\n",
    "CodeOracle.perform_divination()\n"
   ]
  },
  {
   "cell_type": "markdown",
   "id": "79a3292e",
   "metadata": {},
   "source": [
    "## 查卦"
   ]
  },
  {
   "cell_type": "code",
   "execution_count": null,
   "id": "ee5c39e5",
   "metadata": {},
   "outputs": [],
   "source": [
    "# 导入你保存的文件模块\n",
    "import GuaLookup\n",
    "\n",
    "# 调用主函数（注意会弹出 input() 等交互）\n",
    "GuaLookup.main_menu()\n"
   ]
  }
 ],
 "metadata": {
  "kernelspec": {
   "display_name": "Python 3",
   "language": "python",
   "name": "python3"
  },
  "language_info": {
   "codemirror_mode": {
    "name": "ipython",
    "version": 3
   },
   "file_extension": ".py",
   "mimetype": "text/x-python",
   "name": "python",
   "nbconvert_exporter": "python",
   "pygments_lexer": "ipython3",
   "version": "3.13.2"
  }
 },
 "nbformat": 4,
 "nbformat_minor": 5
}
